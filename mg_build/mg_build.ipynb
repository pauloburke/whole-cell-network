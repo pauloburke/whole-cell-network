{
 "cells": [
  {
   "cell_type": "code",
   "execution_count": 1,
   "metadata": {},
   "outputs": [],
   "source": [
    "import picell\n",
    "from picell import react_element as rel\n",
    "import sys\n",
    "import networkx as nx\n",
    "from collections import Counter\n",
    "import molmass\n",
    "import matplotlib.pyplot as plt\n",
    "import numpy as np"
   ]
  },
  {
   "cell_type": "code",
   "execution_count": 2,
   "metadata": {},
   "outputs": [
    {
     "data": {
      "text/plain": [
       "True"
      ]
     },
     "execution_count": 2,
     "metadata": {},
     "output_type": "execute_result"
    }
   ],
   "source": [
    "cell = picell.Cell()\n",
    "\n",
    "handler = picell.WholeCellKBHandlerJSON('../data/data.json')\n",
    "handler.set_ignore_list('ignore_list.txt')\n",
    "handler.set_name_mapping('name_mapping.txt')\n",
    "\n",
    "cell.set_translation_process(picell.ProteinTranslation(handler.get_translation_table()))\n",
    "cell.translation_process.set_imature_protein_prefix('Imature')\n",
    "cell.translation_process.set_peptide_prefix('Peptide')\n",
    "cell.translation_process.set_translation_complex_prefix('TranslationComplex')\n",
    "cell.translation_process.set_ribosome(rel('RIBOSOME_70S','c'))\n",
    "cell.translation_process.set_translation_complex_constitution([rel('MG_196_MONOMER','c'),\n",
    "                                                               cell.translation_process.get_ribosome()])\n",
    "cell.translation_process.set_initiation_auxiliaries([rel('MG_173_MONOMER','c'),\n",
    "                                                     rel('MG_142_MONOMER','c')])\n",
    "cell.translation_process.set_elongation_energy_molecules([rel('GTP','c',-1),\n",
    "                                                          rel('GDP','c'),\n",
    "                                                          rel('H','c'),\n",
    "                                                          rel('PI','c'),\n",
    "                                                          rel('H2O','c',-1)]) \n",
    "cell.translation_process.set_elongation_auxiliaries([rel('MG_089_DIMER','c'),\n",
    "                                                     rel('MG_451_DIMER','c'),\n",
    "                                                     rel('MG_433_DIMER','c'),\n",
    "                                                     rel('MG_026_MONOMER','c'),\n",
    "                                                     rel('MG_258_MONOMER','c'),\n",
    "                                                     rel('MG_435_MONOMER','c')]) \n",
    "cell.translation_process.set_translocation_proteins([rel('MG_055_170_277_464_476_20MER','m')]) \n",
    "cell.translation_process.set_translocation_enzymes([rel('MG_297_MONOMER','c'),\n",
    "                                                    rel('MG_210_MONOMER','m'),\n",
    "                                                    rel('MG_0001_048','c')])\n",
    "cell.translation_process.set_gtp_cost_for_translocation(2)\n",
    "cell.translation_process.set_stalled_translation_complex_sufix('Stalled')\n",
    "cell.translation_process.set_translation_stall_auxiliaries([rel('MG_059_MONOMER','c')])\n",
    "cell.translation_process.set_translation_stall_tmRNA([rel('MG_0004_ALA','c')])\n",
    "cell.translation_process.set_tmRNA_proteolysis_tag_chromosome_feature(\"tmRNA_proteolysis_tag\")\n",
    "\n",
    "cell.set_transcription_process(picell.RNATranscription())\n",
    "cell.transcription_process.set_imature_rna_prefix('Imature')\n",
    "cell.transcription_process.set_oligonucleotide_prefix('Small_RNA')\n",
    "cell.transcription_process.set_tu_transcript_sufix('Transcript')\n",
    "cell.transcription_process.set_ribonucleic_acids({'A':['AMP','ADP','ATP'],'G':['GMP','GDP','GTP'],'C':['CMP','CDP','CTP'],'U':['UMP','UDP','UTP']})\n",
    "cell.transcription_process.set_rna_cleavage_enzymes({'rRNA':[rel('MG_367_DIMER','c'),rel('MG_139_DIMER','c'),rel('MG_110_MONOMER','c'),rel('MG_425_DIMER','c')],\n",
    "                                                     'tRNA':[rel('MG_367_DIMER','c'),rel('MG_0003_465','c')]\n",
    "                                                    })\n",
    "cell.transcription_process.set_cost_per_cleavage({'rRNA':3.37,'tRNA':0})\n",
    "cell.transcription_process.set_cleavage_energy_molecules([rel('GTP','c',-1),\n",
    "                                                          rel('GDP','c'),\n",
    "                                                          rel('H','c'),\n",
    "                                                          rel('PI','c'),\n",
    "                                                          rel('H2O','c',-1)]) \n",
    "cell.transcription_process.set_active_transcription_complex_sufix(\"Transcribing_Complex\")\n",
    "cell.transcription_process.set_transcription_complex_sufix(\"Transcription_Complex\")\n",
    "cell.transcription_process.set_dna_sufix(\"DNA\")\n",
    "cell.transcription_process.set_rna_polymerase(rel('RNA_POLYMERASE','c'))\n",
    "cell.transcription_process.set_rna_polymerase_holoenzyme(rel('RNA_POLYMERASE_HOLOENZYME','c'))\n",
    "cell.transcription_process.set_sigma_factor(rel('MG_249_MONOMER','c'))\n",
    "cell.transcription_process.set_transcription_release_factors([rel('MG_027_MONOMER','c'),rel('MG_141_MONOMER','c')]) \n",
    "cell.transcription_process.set_transcription_elongation_factors([rel('MG_282_MONOMER','c')]) \n",
    "cell.transcription_process.set_ppi(rel('PPI','c'))\n",
    "\n",
    "cell.set_replication_process(picell.DNAReplication())\n",
    "cell.replication_process.set_active_replication_complex_sufix(\"Replicating_Complex\")\n",
    "cell.replication_process.set_replication_complex_sufix(\"Replication_Complex\")\n",
    "cell.replication_process.set_replication_start_feature({'Mgenitalium_Chr_1':'oriC'})\n",
    "cell.replication_process.set_replication_terminus_feature({'Mgenitalium_Chr_1':'terC'})\n",
    "cell.replication_process.set_deoxiribonucleic_acids({'A':['DAMP','DADP','DATP'],'G':['DGMP','DGDP','DGTP'],'C':['DCMP','DCDP','DCTP'],'T':['DTMP','DTDP','DTTP']})\n",
    "cell.replication_process.set_ppi(rel('PPI','c',1))\n",
    "cell.replication_process.set_replication_complex_composition([rel('DNA_POLYMERASE_CORE','c',2),\n",
    "                                                              rel('DNA_POLYMERASE_GAMMA_COMPLEX','c'),\n",
    "                                                              rel('MG_001_MONOMER','c',4),\n",
    "                                                              rel('MG_094_HEXAMER','c'),\n",
    "                                                              rel('MG_250_MONOMER','c'),\n",
    "                                                              rel('DNA_GYRASE','c'),\n",
    "                                                              rel('MG_203_204_TETRAMER','c'),\n",
    "                                                              rel('MG_122_MONOMER','c')])\n",
    "cell.replication_process.set_energy_molecules([rel('ATP','c',-1),\n",
    "                                              rel('ADP','c'),\n",
    "                                              rel('H','c'),\n",
    "                                              rel('PI','c'),\n",
    "                                              rel('H2O','c',-1)]) \n",
    "cell.replication_process.set_active_dnaA(rel('MG_469_1MER_ATP','c'))\n",
    "cell.replication_process.set_inactive_dnaA(rel('MG_469_1MER_ADP','c'))\n",
    "cell.replication_process.set_sorted_dnaA_complexes([rel('MG_469_1MER_ATP','c'),\n",
    "                                            rel('MG_469_2MER_ATP','c'),\n",
    "                                            rel('MG_469_3MER_ATP','c'),\n",
    "                                            rel('MG_469_4MER_ATP','c'),\n",
    "                                            rel('MG_469_5MER_ATP','c'),\n",
    "                                            rel('MG_469_6MER_ATP','c'),\n",
    "                                            rel('MG_469_7MER_ATP','c')])\n",
    "cell.replication_process.set_sorted_inactive_dnaA_complexes([rel('MG_469_2MER_1ATP_ADP','c'),\n",
    "                                            rel('MG_469_3MER_2ATP_ADP','c'),\n",
    "                                            rel('MG_469_4MER_3ATP_ADP','c'),\n",
    "                                            rel('MG_469_5MER_4ATP_ADP','c'),\n",
    "                                            rel('MG_469_6MER_5ATP_ADP','c'),\n",
    "                                            rel('MG_469_7MER_6ATP_ADP','c')])\n",
    "cell.replication_process.set_dnaA_replication_boxes(['DnaA_Box_2277','DnaA_Box_2276','DnaA_Box_2275','DnaA_Box_0149','DnaA_Box_2278'])\n",
    "cell.replication_process.set_dna_repair_enzymes([rel('MG_254_MONOMER','c'),\n",
    "                                                 rel('MG_105_OCTAMER','c'),\n",
    "                                                 rel('MG_498_MONOMER','c'),\n",
    "                                                 rel('MG_097_MONOMER','c'),\n",
    "                                                 rel('MG_235_MONOMER','c'),\n",
    "                                                 rel('MG_073_206_421_TETRAMER','c'),\n",
    "                                                 rel('MG_339_MONOMER','c'),\n",
    "                                                 rel('MG_262_MONOMER','c'),\n",
    "                                                 rel('MG_358_359_10MER','c')\n",
    "                                                ])\n",
    "cell.replication_process.set_dna_condensation_protein(rel('MG_213_214_298_6MER_ADP','c'))\n",
    "cell.replication_process.set_dna_condensation_unbounded_protein([rel('MG_213_214_298_6MER','c'),\n",
    "                                                                rel('ADP','c')])\n",
    "\n",
    "cell.set_protein_degradation_process(picell.ProteinDegradation())\n",
    "cell.protein_degradation_process.set_intracellullar_degradation_enzymes([rel('MG_239_HEXAMER','c')])\n",
    "cell.protein_degradation_process.set_membrane_degradation_enzymes([rel('MG_457_HEXAMER','m')])\n",
    "cell.protein_degradation_process.set_signaled_degradation_enzymes([rel('MG_457_HEXAMER','m')])\n",
    "cell.protein_degradation_process.set_peptidases([ rel('MG_324_MONOMER','c'),\n",
    "                                                 rel('MG_391_HEXAMER','c'),\n",
    "                                                 rel('MG_208_DIMER','c'),\n",
    "                                                 rel('MG_046_DIMER','c'),\n",
    "                                                 rel('MG_183_MONOMER','c'),\n",
    "                                                 rel('MG_020_MONOMER','c')])\n",
    "cell.protein_degradation_process.set_mean_cleavage_cost({'MG_239_HEXAMER':1,'MG_457_HEXAMER':1})\n",
    "cell.protein_degradation_process.set_mean_cleavage_length({'MG_239_HEXAMER':15,'MG_457_HEXAMER':15})\n",
    "cell.protein_degradation_process.set_energy_molecules([rel('ATP','c',-1),\n",
    "                                              rel('ADP','c'),\n",
    "                                              rel('H','c'),\n",
    "                                              rel('PI','c'),\n",
    "                                              rel('H2O','c',-1)])\n",
    "\n",
    "cell.set_rna_degradation_process(picell.RNADegradation())\n",
    "cell.rna_degradation_process.set_degradation_enzymes([rel('MG_104_MONOMER','c')])\n",
    "cell.rna_degradation_process.set_aminoacylated_trna_degradation_enzymes([rel('MG_083_MONOMER','c')])"
   ]
  },
  {
   "cell_type": "code",
   "execution_count": 3,
   "metadata": {
    "scrolled": false
   },
   "outputs": [
    {
     "name": "stdout",
     "output_type": "stream",
     "text": [
      "({}, {})\n",
      "9.597840744390851e-08 -0.0010000000000012221 -3.797288102612238e-08 6.1577879262085854e-06\n"
     ]
    }
   ],
   "source": [
    "cell.add_chromosomes(handler.create_all_chromosomes())\n",
    "cell.add_chromosome_features(handler.get_chromosome_features())\n",
    "cell.add_genes(handler.create_all_genes())\n",
    "cell.add_transcription_units(handler.create_all_transcription_units())\n",
    "cell.set_chromosome_region_length({'Mgenitalium_Chr_1':500000})\n",
    "cell.create_chromosome_regions()\n",
    "\n",
    "cell.translation_process.add_modification_reactions(handler.create_all_protein_modification_reactions(cell.translation_process))\n",
    "cell.transcription_process.add_modification_reactions(handler.create_all_rna_modification_reactions(cell.transcription_process))\n",
    "\n",
    "cell.add_reactions(handler.create_all_metabolic_reactions())\n",
    "cell.add_reactions(handler.create_all_aminoacylation_reactions(cell.translation_process))\n",
    "\n",
    "cell.solve_inconcistencies(handler)\n",
    "\n",
    "cell.add_all_DnaA_complexes(\"DnaA_Box\")\n",
    "cell.add_reactions(handler.get_chemical_reactions(['DnaA_inactivation','DnaA_reactivation']))\n",
    "\n",
    "cell.add_all_dna_condensed_states(500)\n",
    "\n",
    "cell.solve_inconcistencies(handler)\n",
    "\n",
    "cell.add_reactions(handler.create_all_terminal_organelle_assembly_reactions())\n",
    "\n",
    "met = picell.SmallMolecule()\n",
    "met.ref_name = 'phosphopantetheine'\n",
    "met.name = \"4'-phosphopantetheine\"\n",
    "met.cross_references = {'ECMDB':'ECMDB24213',\n",
    "                        'ECMDB':'M2MDB006330'}\n",
    "met.annotations = ['Metabolite']\n",
    "met.original_database = \"ECMDB\"\n",
    "met.formula = \"C11H23N2O7PS\"\n",
    "met.compute_mw_from_formula()\n",
    "met.smiles = \"CC(C(=O)NCCC(=O)NCCS)C(C)(C)COP([O-])([O-])=O\"\n",
    "met.iupac_name = \"2,3,3-trimethyl-4-(phosphonatooxy)-N-{2-[(2-sulfanylethyl)carbamoyl]ethyl}butanamide\"\n",
    "met.is_hydrophobic = False\n",
    "met.charge = -2\n",
    "met.log_p = 0.9\n",
    "cell.add_molecule(met)\n",
    "\n",
    "cell_div = picell.CellDivisionReaction()\n",
    "cell_div.process = \"Cellular Division\"\n",
    "for dna in cell.get_replication_terminus_dnas():\n",
    "    cell_div.auxiliar_molecules.append(rel(dna,'c',2))\n",
    "cell_div.auxiliar_molecules.append(rel('MG_470_MONOMER','c'))\n",
    "cell_div.auxiliar_molecules.append(rel('MG_384_MONOMER','c'))\n",
    "cell_div.auxiliar_molecules.append(rel('MG_221_OCTAMER','c'))\n",
    "cell_div.auxiliar_molecules.append(rel('MG_387_MONOMER','c'))\n",
    "cell_div.auxiliar_molecules.append(rel('MG_203_204_TETRAMER','c'))\n",
    "cell_div.auxiliar_molecules.append(rel('MG_224_9MER_GDP','c',9))\n",
    "cell_div.auxiliar_molecules.append(rel('MG_191_MONOMER','tm',2))\n",
    "cell_div.auxiliar_molecules.append(rel('MG_192_MONOMER','tm',2))\n",
    "cell_div.auxiliar_molecules.append(rel('MG_386_MONOMER','tc',2))\n",
    "cell_div.auxiliar_molecules.append(rel('MG_318_MONOMER','tm',2))\n",
    "cell_div.auxiliar_molecules.append(rel('MG_217_MONOMER','tc',2))\n",
    "cell_div.auxiliar_molecules.append(rel('MG_317_MONOMER','tc',2))\n",
    "cell_div.auxiliar_molecules.append(rel('MG_218_MONOMER','tc',2))\n",
    "cell_div.auxiliar_molecules.append(rel('MG_312_MONOMER','tc',2))\n",
    "cell_div.molecules.append(rel('GTP','c',-4))\n",
    "cell_div.molecules.append(rel('GDP','c',4))\n",
    "cell_div.molecules.append(rel('H2O','c',-4))\n",
    "cell_div.molecules.append(rel('PI','c',4))\n",
    "cell_div.molecules.append(rel('H','c',4))\n",
    "cell.add_reaction(cell_div)\n",
    "\n",
    "react = picell.ChemicalReaction()\n",
    "react.ref_name = \"H2O_formation\"\n",
    "react.name = \"H2O formation\"\n",
    "react.annotations = ['Chemical Reaction']\n",
    "react.process = \"Metabolism\"\n",
    "react.molecules.append(rel('H2O','c'))\n",
    "react.molecules.append(rel('H','c',-1))\n",
    "react.molecules.append(rel('OH','c',-1))\n",
    "react.is_reversible = True\n",
    "cell.add_reaction(react)\n",
    "\n",
    "cell.solve_inconcistencies(handler)\n",
    "\n",
    "cell.reactions['MG_213_214_298_6MER_ADP_BIOSYNTHESIS'].molecules = [rel('MG_213_214_298_6MER','c',-1),\n",
    "                                                                    rel('MG_213_214_298_6MER_ADP','c'),\n",
    "                                                                    rel('ATP','c',-1),\n",
    "                                                                    rel('H2O','c',-1),\n",
    "                                                                    rel('H','c'),\n",
    "                                                                    rel('PI','c')]\n",
    "cell.reactions['MG_213_214_298_6MER_ADP_BIOSYNTHESIS'].is_reversible = True\n",
    "\n",
    "\n",
    "monomers = list(set([entry['wid'] for entry in handler.wcdata['data'] if entry['model']=='ProteinMonomer' and entry['wid'] not in handler.ignore_list]))\n",
    "complexes = list(set([entry['wid'] for entry in handler.wcdata['data'] if entry['model']=='ProteinComplex' and entry['wid'] not in handler.ignore_list]))\n",
    "additional_molecules = []\n",
    "for m in monomers+complexes:\n",
    "    if m not in cell.molecules.keys():\n",
    "        additional_molecules.append(m)\n",
    "cell.add_molecules([handler.make_molecule_from_entry_name(mol) for mol in additional_molecules])\n",
    "\n",
    "cell.solve_inconcistencies(handler)\n",
    "cell.solve_inconcistencies(handler)\n",
    "cell.solve_inconcistencies(handler)\n",
    "cell.solve_inconcistencies(handler)\n",
    "cell.solve_inconcistencies(handler)\n",
    "\n",
    "\n",
    "cell.remove_molecules_from_composition('MG_229_231_TETRAMER_ox',4*['H'])\n",
    "cell.remove_molecules_from_composition('MG_427_DIMER_ox',4*['H'])\n",
    "cell.remove_molecules_from_composition('MG_454_DIMER_ox',4*['H'])\n",
    "cell.remove_molecules_from_composition('MG_102_DIMER_ox',4*['H'])\n",
    "cell.remove_molecules_from_composition('MG_124_MONOMER_ox',2*['H'])\n",
    "cell.remove_molecules_from_composition('MG_127_MONOMER_ox',2*['H'])\n",
    "cell.remove_molecules_from_composition('MG_295_MONOMER_ox',2*['H'])\n",
    "cell.remove_molecules_from_composition('MG_271_272_273_274_4MER_ox',2*['H'])\n",
    "\n",
    "cell.solve_inconcistencies(handler)\n",
    "print(cell.solve_inconcistencies(handler))\n",
    "\n",
    "cell.compute_all_reaction_mass_balance()\n",
    "weight_diff = {key:val.mass_balance for key,val in cell.reactions.items()}\n",
    "vals = np.array(list(weight_diff.values()))\n",
    "print(np.max(vals),np.min(vals),np.mean(vals),np.std(vals))"
   ]
  },
  {
   "cell_type": "code",
   "execution_count": 4,
   "metadata": {},
   "outputs": [
    {
     "data": {
      "text/plain": [
       "True"
      ]
     },
     "execution_count": 4,
     "metadata": {},
     "output_type": "execute_result"
    }
   ],
   "source": [
    "cell.save(\"mg_picell_data2.json\",compressed=False)"
   ]
  },
  {
   "cell_type": "code",
   "execution_count": 5,
   "metadata": {},
   "outputs": [],
   "source": [
    "g = cell.generate_network()\n",
    "\n",
    "nx.set_node_attributes(g, dict(g.degree()), 'degree')\n",
    "nx.set_node_attributes(g, dict(g.in_degree()), 'indegree')\n",
    "nx.set_node_attributes(g, dict(g.out_degree()), 'outdegree')\n",
    "nx.set_node_attributes(g, dict(g.degree(weight='sto')), 'stodegree')\n",
    "nx.set_node_attributes(g, dict(g.in_degree(weight='sto')), 'instodegree')\n",
    "nx.set_node_attributes(g, dict(g.out_degree(weight='sto')), 'outstodegree')"
   ]
  },
  {
   "cell_type": "code",
   "execution_count": 6,
   "metadata": {},
   "outputs": [],
   "source": [
    "nx.write_gml(g,'networks/mg_net.gml')\n",
    "nx.write_graphml(g,'networks/mg_net.graphml')"
   ]
  },
  {
   "cell_type": "code",
   "execution_count": 7,
   "metadata": {
    "scrolled": true
   },
   "outputs": [
    {
     "name": "stdout",
     "output_type": "stream",
     "text": [
      "total nodes: 119689\n",
      "total edges: 480094\n",
      "molecules: 37027\n",
      "reactions: 82662\n"
     ]
    }
   ],
   "source": [
    "print(\"total nodes:\",len(g.nodes))\n",
    "print(\"total edges:\",len(g.edges))\n",
    "print(\"molecules:\",len([x for x,y in g.nodes(data=True) if y['type']=='m']))\n",
    "print(\"reactions:\",len([x for x,y in g.nodes(data=True) if y['type']=='r']))"
   ]
  },
  {
   "cell_type": "code",
   "execution_count": 8,
   "metadata": {
    "scrolled": true
   },
   "outputs": [
    {
     "data": {
      "image/png": "[encoded data removed]",
      "text/plain": [
       "<Figure size 432x288 with 1 Axes>"
      ]
     },
     "metadata": {
      "needs_background": "light"
     },
     "output_type": "display_data"
    }
   ],
   "source": [
    "num_bins = 100\n",
    "\n",
    "fig, ax = plt.subplots()\n",
    "#plt.xscale('log')\n",
    "plt.yscale('log')\n",
    "# the histogram of the data\n",
    "n, bins, patches = ax.hist(np.array(list(weight_diff.values())), num_bins,alpha=0.5)\n",
    "#n, bins, patches = ax.hist(dna_region_weights_diff, num_bins, density=1,alpha=0.5)\n",
    "\n",
    "fig.tight_layout()\n",
    "plt.show()"
   ]
  },
  {
   "cell_type": "code",
   "execution_count": 9,
   "metadata": {},
   "outputs": [],
   "source": [
    "with open(\"mg_info_reg.gff\",\"w\") as f:\n",
    "    f.write(\"seqname\\tsource\\tfeature\\tstart\\tend\\tscore\\tstrand\\tframe\\n\")\n",
    "    for chrm in cell.chromosome_regions.values():\n",
    "        f.write(\"\\t\".join([chrm.ref_name,\"WholeCellKB\",\"A\",str(chrm.start),str(chrm.end),\".\",\"+\",\".\"]))\n",
    "        f.write(\"\\n\")\n",
    "with open(\"mg_info_gen.gff\",\"w\") as f:\n",
    "    f.write(\"seqname\\tsource\\tfeature\\tstart\\tend\\tscore\\tstrand\\tframe\\n\")\n",
    "    for gene in cell.genes.values():\n",
    "        direction = \"+\"\n",
    "        if gene.direction ==\"Reverse\":\n",
    "            direction = \"-\"\n",
    "        gen_type = \"CDS\"\n",
    "        if gene.type in [\"tRNA\",\"rRNA\"]:\n",
    "            gen_type = gene.type\n",
    "        f.write(\"\\t\".join([gene.ref_name,\"WholeCellKB\",gen_type,str(gene.start),str(gene.start+gene.length-1),\".\",direction,\".\"]))\n",
    "        f.write(\"\\n\")\n",
    "with open(\"mg_info_tu.gff\",\"w\") as f:\n",
    "    f.write(\"seqname\\tsource\\tfeature\\tstart\\tend\\tscore\\tstrand\\tframe\\n\")\n",
    "    for tu in cell.transcription_units.values():\n",
    "        direction = \"+\"\n",
    "        if tu.direction ==\"Reverse\":\n",
    "            direction = \"-\"\n",
    "        f.write(\"\\t\".join([tu.ref_name,\"WholeCellKB\",\"T\",str(tu.transcription_start),str(tu.transcription_end),\".\",direction,\".\"]))\n",
    "        f.write(\"\\n\")\n",
    "with open(\"mg_info_dnaa.gff\",\"w\") as f:\n",
    "    f.write(\"seqname\\tsource\\tfeature\\tstart\\tend\\tscore\\tstrand\\tframe\\n\")\n",
    "    for chrm in cell.chromosome_regions.values():\n",
    "        for ft in chrm.features:\n",
    "            if \"DnaA_Box\" in ft:\n",
    "                f.write(\"\\t\".join([ft,\"WholeCellKB\",\"K\",str(chrm.start),str(chrm.end),\".\",\"+\",\".\"]))\n",
    "                f.write(\"\\n\")"
   ]
  },
  {
   "cell_type": "code",
   "execution_count": 10,
   "metadata": {},
   "outputs": [
    {
     "name": "stdout",
     "output_type": "stream",
     "text": [
      "['Mgenitalium_Chr_1_region_2206_DNA']\n"
     ]
    }
   ],
   "source": [
    "print(cell.get_replication_terminus_dnas())"
   ]
  },
  {
   "cell_type": "code",
   "execution_count": 11,
   "metadata": {},
   "outputs": [
    {
     "name": "stdout",
     "output_type": "stream",
     "text": [
      "Mgenitalium_Chr_1_region_4530_DNA_MG_469_7MER_ATP\n",
      "Mgenitalium_Chr_1_region_4526_DNA_MG_469_7MER_ATP\n",
      "Mgenitalium_Chr_1_region_4524_DNA_MG_469_7MER_ATP\n",
      "Mgenitalium_Chr_1_region_4516_DNA_MG_469_7MER_ATP\n",
      "Mgenitalium_Chr_1_region_4514_DNA_MG_469_7MER_ATP\n"
     ]
    }
   ],
   "source": [
    "chrm = 'Mgenitalium_Chr_1'\n",
    "dnaA_boxes = Counter([cell.chromosomes[chrm].features[box]['start'] for box in cell.replication_process.dnaA_replication_boxes])\n",
    "for box,sto in dnaA_boxes.items():\n",
    "    reg = cell.get_chromosome_region_from_coordinate(chrm,box)\n",
    "    print(reg+\"_\"+cell.transcription_process.dna_sufix +\"_\"+cell.replication_process.dnaA_complex[-1]['molecule'])"
   ]
  },
  {
   "cell_type": "code",
   "execution_count": 12,
   "metadata": {},
   "outputs": [
    {
     "name": "stdout",
     "output_type": "stream",
     "text": [
      "['ASN', 'ALA', 'THR', 'TRP', 'LEU', 'LYS', 'TYR', 'ASP', 'SER', 'CYS', 'HIS', 'MET', 'PHE', 'FMET', 'ILE', 'ARG', 'VAL', 'GLN', 'PRO', 'GLY', 'GLU']\n"
     ]
    }
   ],
   "source": [
    "print(cell.translation_process.aminoacids_names)"
   ]
  },
  {
   "cell_type": "code",
   "execution_count": null,
   "metadata": {},
   "outputs": [],
   "source": []
  }
 ],
 "metadata": {
  "kernelspec": {
   "display_name": "picell",
   "language": "python",
   "name": "picell"
  },
  "language_info": {
   "codemirror_mode": {
    "name": "ipython",
    "version": 3
   },
   "file_extension": ".py",
   "mimetype": "text/x-python",
   "name": "python",
   "nbconvert_exporter": "python",
   "pygments_lexer": "ipython3",
   "version": "3.7.5"
  },
  "varInspector": {
   "cols": {
    "lenName": 16,
    "lenType": 16,
    "lenVar": 40
   },
   "kernels_config": {
    "python": {
     "delete_cmd_postfix": "",
     "delete_cmd_prefix": "del ",
     "library": "var_list.py",
     "varRefreshCmd": "print(var_dic_list())"
    },
    "r": {
     "delete_cmd_postfix": ") ",
     "delete_cmd_prefix": "rm(",
     "library": "var_list.r",
     "varRefreshCmd": "cat(var_dic_list()) "
    }
   },
   "types_to_exclude": [
    "module",
    "function",
    "builtin_function_or_method",
    "instance",
    "_Feature"
   ],
   "window_display": false
  }
 },
 "nbformat": 4,
 "nbformat_minor": 2
}
